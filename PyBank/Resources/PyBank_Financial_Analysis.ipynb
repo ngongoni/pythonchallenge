{
 "cells": [
  {
   "cell_type": "code",
   "execution_count": 1,
   "id": "0f8fb126",
   "metadata": {},
   "outputs": [],
   "source": [
    "#Imported dependencies\n",
    "import os\n",
    "import csv"
   ]
  },
  {
   "cell_type": "code",
   "execution_count": 2,
   "id": "132c5646",
   "metadata": {},
   "outputs": [],
   "source": [
    "#Established variables\n",
    "profit_losses = []"
   ]
  },
  {
   "cell_type": "code",
   "execution_count": 3,
   "id": "3bba22f8",
   "metadata": {},
   "outputs": [],
   "source": [
    "csvpath = os.path.join('budget_data.csv')"
   ]
  },
  {
   "cell_type": "code",
   "execution_count": 4,
   "id": "2aa24c99",
   "metadata": {},
   "outputs": [],
   "source": [
    "month_total = 0\n",
    "net_total = 0\n",
    "profit_change = 0\n",
    "prev_profit = 0\n",
    "max_profit = 0\n",
    "min_profit = 0\n",
    "max_day = \" \"\n",
    "min_day = \" \""
   ]
  },
  {
   "cell_type": "code",
   "execution_count": 10,
   "id": "5ea86752",
   "metadata": {},
   "outputs": [
    {
     "name": "stdout",
     "output_type": "stream",
     "text": [
      "Financial Analysis\n",
      "------------------------------------------\n",
      "Total Months: 344\n",
      "Total: $153530312\n",
      "Average Change: $-573.72\n",
      "Greatest Increase in Profits: Feb-2012 ($1926159)\n",
      "Greatest Decrease in Profits: Sep-2013 ($-2196167)\n",
      "\n"
     ]
    }
   ],
   "source": [
    "#Calculate Total Months, Total Profit/Losses, Average of the changes, and greatest increase/decrease in profits\n",
    "with open(csvpath) as budget_file:\n",
    "    csv_reader = csv.reader(budget_file, delimiter = ',')\n",
    "    \n",
    "    csv_header = next(budget_file)\n",
    "\n",
    "    for row in csv_reader:\n",
    "        month_total = (month_total + 1)\n",
    "        net_total = (net_total + int(row[1]))\n",
    "        if prev_profit != 0:\n",
    "            profit_change = int(row[1]) - prev_profit\n",
    "            profit_losses.append(profit_change)\n",
    "            prev_profit = int(row[1])\n",
    "            if profit_change > max_profit:\n",
    "                max_profit = profit_change\n",
    "                max_day = str(row[0])\n",
    "            elif profit_change < min_profit:\n",
    "                min_profit = profit_change\n",
    "                min_day = str(row[0])\n",
    "        else: \n",
    "            prev_profit = int(row[1])\n",
    "\n",
    "    average_change = round((sum(profit_losses) / len(profit_losses)), 2)\n",
    "    \n",
    "    \n",
    "    #Exported txt file\n",
    "output_file = os.path.join('budget_data_results.txt')\n",
    "\n",
    "final_file = open(output_file, \"w+\")\n",
    "final_file.writelines(\n",
    "    f\"Financial Analysis\\n\"\n",
    "    f\"------------------------------------------\\n\"\n",
    "    f\"Total Months: {month_total}\\n\"\n",
    "    f\"Total: ${net_total}\\n\"\n",
    "    f\"Average Change: ${average_change}\\n\"\n",
    "    f\"Greatest Increase in Profits: {max_day} (${max_profit})\\n\"\n",
    "    f\"Greatest Decrease in Profits: {min_day} (${min_profit})\\n\"\n",
    "    )\n",
    "\n",
    "\n",
    "#Printed Finacial Analysis results\n",
    "print(\n",
    "    f\"Financial Analysis\\n\"\n",
    "    f\"------------------------------------------\\n\"\n",
    "    f\"Total Months: {month_total}\\n\"\n",
    "    f\"Total: ${net_total}\\n\"\n",
    "    f\"Average Change: ${average_change}\\n\"\n",
    "    f\"Greatest Increase in Profits: {max_day} (${max_profit})\\n\"\n",
    "    f\"Greatest Decrease in Profits: {min_day} (${min_profit})\\n\"\n",
    ")\n",
    "final_file.close()"
   ]
  },
  {
   "cell_type": "code",
   "execution_count": null,
   "id": "ab6bc099",
   "metadata": {},
   "outputs": [],
   "source": []
  }
 ],
 "metadata": {
  "kernelspec": {
   "display_name": "Python 3",
   "language": "python",
   "name": "python3"
  },
  "language_info": {
   "codemirror_mode": {
    "name": "ipython",
    "version": 3
   },
   "file_extension": ".py",
   "mimetype": "text/x-python",
   "name": "python",
   "nbconvert_exporter": "python",
   "pygments_lexer": "ipython3",
   "version": "3.6.13"
  }
 },
 "nbformat": 4,
 "nbformat_minor": 5
}
