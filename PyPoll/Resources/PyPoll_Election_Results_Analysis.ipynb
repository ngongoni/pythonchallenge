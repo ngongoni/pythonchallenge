{
 "cells": [
  {
   "cell_type": "code",
   "execution_count": 1,
   "id": "e6179bac",
   "metadata": {},
   "outputs": [],
   "source": [
    "#Imported Dependencies\n",
    "import os\n",
    "import csv"
   ]
  },
  {
   "cell_type": "code",
   "execution_count": 2,
   "id": "e80665cd",
   "metadata": {},
   "outputs": [],
   "source": [
    "#Established Variables\n",
    "candidates = {}"
   ]
  },
  {
   "cell_type": "code",
   "execution_count": 3,
   "id": "b1fb9404",
   "metadata": {},
   "outputs": [],
   "source": [
    "elec_csvpath = os.path.join('election_data.csv')"
   ]
  },
  {
   "cell_type": "code",
   "execution_count": 4,
   "id": "8d62bb2f",
   "metadata": {},
   "outputs": [],
   "source": [
    "vote_total = 0\n",
    "winning_votes = 0\n",
    "winner = None"
   ]
  },
  {
   "cell_type": "code",
   "execution_count": 5,
   "id": "61411bc4",
   "metadata": {},
   "outputs": [],
   "source": [
    "#Collected Candidate Names and tallied their votes\n",
    "with open(elec_csvpath) as election_file:\n",
    "    elec_csvreader = csv.reader(election_file, delimiter = ',')\n",
    "\n",
    "    elec_csvheader = next(election_file)\n",
    "\n",
    "    for row in elec_csvreader:\n",
    "        vote_total += 1\n",
    "        if row[2] not in candidates:\n",
    "            candidates[row[2]] = 0\n",
    "        candidates[row[2]] += 1"
   ]
  },
  {
   "cell_type": "code",
   "execution_count": 7,
   "id": "f721b8eb",
   "metadata": {},
   "outputs": [
    {
     "name": "stdout",
     "output_type": "stream",
     "text": [
      "Election Results\n",
      "-----------------------------------\n",
      "Total Votes: 3521001\n",
      "-----------------------------------\n"
     ]
    }
   ],
   "source": [
    "#Begin Printing Results\n",
    "print(\n",
    "    f'Election Results\\n'\n",
    "    f'-----------------------------------\\n'\n",
    "    f'Total Votes: {vote_total}\\n'\n",
    "    f'-----------------------------------'\n",
    ")"
   ]
  },
  {
   "cell_type": "code",
   "execution_count": 8,
   "id": "1bdb580c",
   "metadata": {},
   "outputs": [
    {
     "name": "stdout",
     "output_type": "stream",
     "text": [
      "Khan: 63.000% (2218231)\n",
      "Correy: 20.000% (704200)\n",
      "Li: 14.000% (492940)\n",
      "O'Tooley: 3.000% (105630)\n"
     ]
    }
   ],
   "source": [
    "#Calculated each Candidate's Vote Percentage and the Winning Candidate\n",
    "for candidate,total_can_votes in candidates.items():\n",
    "    vote_percentage = ('{:.3f}'.format((total_can_votes/vote_total) * 100))\n",
    "    if total_can_votes >= winning_votes:\n",
    "        winning_votes = total_can_votes\n",
    "        winner = candidate\n",
    "    print(\n",
    "        f'{candidate}: {vote_percentage}% ({total_can_votes})'\n",
    "        \n",
    "    )\n"
   ]
  },
  {
   "cell_type": "code",
   "execution_count": 21,
   "id": "4285269f",
   "metadata": {},
   "outputs": [
    {
     "name": "stdout",
     "output_type": "stream",
     "text": [
      "-----------------------------------\n",
      "Winner: Khan\n",
      "-----------------------------------\n"
     ]
    }
   ],
   "source": [
    "# Finished Printing Results\n",
    "print(\n",
    "    f'-----------------------------------\\n'\n",
    "    f'Winner: {winner}\\n'\n",
    "    f'-----------------------------------'\n",
    ")"
   ]
  },
  {
   "cell_type": "code",
   "execution_count": 22,
   "id": "112a4e90",
   "metadata": {},
   "outputs": [],
   "source": [
    "\n",
    "#Exported txt file\n",
    "output_file = os.path.join('election_results.txt')\n",
    "\n",
    "final_file = open(output_file, \"w+\")\n",
    "final_file.writelines(\n",
    "    f'Election Results\\n'\n",
    "    f'-----------------------------------\\n'\n",
    "    f'Total Votes: {vote_total}\\n'\n",
    "    f'-----------------------------------\\n')\n",
    "for candidate,total_can_votes in candidates.items():\n",
    "    final_file.writelines(\n",
    "        f'{candidate}: {vote_percentage}% ({total_can_votes})\\n'       \n",
    "    )\n",
    "final_file.writelines(\n",
    "    f'-----------------------------------\\n'\n",
    "    f'Winner: {winner}\\n'\n",
    "    f'-----------------------------------'\n",
    ") "
   ]
  },
  {
   "cell_type": "code",
   "execution_count": 25,
   "id": "3e04aa88",
   "metadata": {},
   "outputs": [
    {
     "name": "stdout",
     "output_type": "stream",
     "text": [
      "Election Results\n",
      "-----------------------------------\n",
      "Total Votes: 3521001\n",
      "-----------------------------------\n",
      "Khan: 63.000% (2218231)\n",
      "Correy: 20.000% (704200)\n",
      "Li: 14.000% (492940)\n",
      "O'Tooley: 3.000% (105630)\n",
      "-----------------------------------\n",
      "Winner: Khan\n",
      "-----------------------------------\n"
     ]
    }
   ],
   "source": [
    "# Consolidated Results\n",
    "print(\n",
    "    f'Election Results\\n'\n",
    "    f'-----------------------------------\\n'\n",
    "    f'Total Votes: {vote_total}\\n'\n",
    "    f'-----------------------------------'\n",
    ")\n",
    "\n",
    "for candidate,total_can_votes in candidates.items():\n",
    "    vote_percentage = ('{:.3f}'.format((total_can_votes/vote_total) * 100))\n",
    "    if total_can_votes >= winning_votes:\n",
    "        winning_votes = total_can_votes\n",
    "        winner = candidate\n",
    "    print(\n",
    "        f'{candidate}: {vote_percentage}% ({total_can_votes})'\n",
    "        \n",
    "    )\n",
    "    \n",
    "\n",
    "print(\n",
    "    f'-----------------------------------\\n'\n",
    "    f'Winner: {winner}\\n'\n",
    "    f'-----------------------------------'\n",
    ")\n",
    "output_file = os.path.join('election_results.txt')\n",
    "\n",
    "final_file = open(output_file, \"w+\")\n",
    "final_file.writelines(\n",
    "    f'Election Results\\n'\n",
    "    f'-----------------------------------\\n'\n",
    "    f'Total Votes: {vote_total}\\n'\n",
    "    f'-----------------------------------\\n')\n",
    "for candidate,total_can_votes in candidates.items():\n",
    "    final_file.writelines(\n",
    "        f'{candidate}: {vote_percentage}% ({total_can_votes})\\n'       \n",
    "    )\n",
    "final_file.writelines(\n",
    "    f'-----------------------------------\\n'\n",
    "    f'Winner: {winner}\\n'\n",
    "    f'-----------------------------------'\n",
    ") \n",
    "\n"
   ]
  },
  {
   "cell_type": "code",
   "execution_count": null,
   "id": "8be6466e",
   "metadata": {},
   "outputs": [],
   "source": []
  }
 ],
 "metadata": {
  "kernelspec": {
   "display_name": "Python 3",
   "language": "python",
   "name": "python3"
  },
  "language_info": {
   "codemirror_mode": {
    "name": "ipython",
    "version": 3
   },
   "file_extension": ".py",
   "mimetype": "text/x-python",
   "name": "python",
   "nbconvert_exporter": "python",
   "pygments_lexer": "ipython3",
   "version": "3.6.13"
  }
 },
 "nbformat": 4,
 "nbformat_minor": 5
}
